{
  "nbformat": 4,
  "nbformat_minor": 0,
  "metadata": {
    "colab": {
      "name": "Assignment1 ineuron.ipynb",
      "provenance": []
    },
    "kernelspec": {
      "name": "python3",
      "display_name": "Python 3"
    }
  },
  "cells": [
    {
      "cell_type": "markdown",
      "metadata": {
        "id": "0IKpE99vZln8",
        "colab_type": "text"
      },
      "source": [
        "Write a program which will find all such numbers which are divisible by 7 but are not a multiple\n",
        "of 5, between 2000 and 3200 (both included). The numbers obtained should be printed in a\n",
        "comma-separated sequence on a single line."
      ]
    },
    {
      "cell_type": "code",
      "metadata": {
        "id": "UP5hlQidVBPp",
        "colab_type": "code",
        "outputId": "818432ff-0cd2-4f56-d199-5b4e0e4012b9",
        "colab": {
          "base_uri": "https://localhost:8080/",
          "height": 54
        }
      },
      "source": [
        "\n",
        "for num in range(2000,3201):\n",
        "  if num%7 ==0 and num %5!=0:\n",
        "    print(num,end=',')\n",
        "      "
      ],
      "execution_count": 0,
      "outputs": [
        {
          "output_type": "stream",
          "text": [
            "2002,2009,2016,2023,2037,2044,2051,2058,2072,2079,2086,2093,2107,2114,2121,2128,2142,2149,2156,2163,2177,2184,2191,2198,2212,2219,2226,2233,2247,2254,2261,2268,2282,2289,2296,2303,2317,2324,2331,2338,2352,2359,2366,2373,2387,2394,2401,2408,2422,2429,2436,2443,2457,2464,2471,2478,2492,2499,2506,2513,2527,2534,2541,2548,2562,2569,2576,2583,2597,2604,2611,2618,2632,2639,2646,2653,2667,2674,2681,2688,2702,2709,2716,2723,2737,2744,2751,2758,2772,2779,2786,2793,2807,2814,2821,2828,2842,2849,2856,2863,2877,2884,2891,2898,2912,2919,2926,2933,2947,2954,2961,2968,2982,2989,2996,3003,3017,3024,3031,3038,3052,3059,3066,3073,3087,3094,3101,3108,3122,3129,3136,3143,3157,3164,3171,3178,3192,3199,"
          ],
          "name": "stdout"
        }
      ]
    },
    {
      "cell_type": "code",
      "metadata": {
        "id": "qEfsPR9iYnrI",
        "colab_type": "code",
        "colab": {}
      },
      "source": [
        ""
      ],
      "execution_count": 0,
      "outputs": []
    },
    {
      "cell_type": "markdown",
      "metadata": {
        "id": "I9ILWml7aZL5",
        "colab_type": "text"
      },
      "source": [
        "Write a Python program to accept the user's first and last name and then getting them printed in\n",
        "the the reverse order with a space between first name and last name."
      ]
    },
    {
      "cell_type": "code",
      "metadata": {
        "id": "Xey1_HzKabVd",
        "colab_type": "code",
        "colab": {}
      },
      "source": [
        "def full_name():\n",
        "  first=str(input( ' your first name: '))\n",
        "  second=str(input( ' enter last name: '))\n",
        "  print(f'{second}  {first}')"
      ],
      "execution_count": 0,
      "outputs": []
    },
    {
      "cell_type": "code",
      "metadata": {
        "id": "mKV7PaOIbO1t",
        "colab_type": "code",
        "outputId": "0a0745ea-cad1-4b07-f1c8-45492201d96e",
        "colab": {
          "base_uri": "https://localhost:8080/",
          "height": 70
        }
      },
      "source": [
        "full_name()"
      ],
      "execution_count": 2,
      "outputs": [
        {
          "output_type": "stream",
          "text": [
            " your first name: chowa\n",
            " enter last name: cross\n",
            "cross  chowa\n"
          ],
          "name": "stdout"
        }
      ]
    },
    {
      "cell_type": "code",
      "metadata": {
        "id": "TcNchtHZatyG",
        "colab_type": "code",
        "colab": {}
      },
      "source": [
        ""
      ],
      "execution_count": 0,
      "outputs": []
    },
    {
      "cell_type": "markdown",
      "metadata": {
        "id": "1_wg0oZId-ZO",
        "colab_type": "text"
      },
      "source": [
        "*italicized text*\n",
        "Write a Python program to find the volume of a sphere with diameter 12 cm.\n",
        "Formula: V=4/3 * π * r"
      ]
    },
    {
      "cell_type": "code",
      "metadata": {
        "id": "djSTkv3peCJx",
        "colab_type": "code",
        "colab": {}
      },
      "source": [
        "def volum_sphere(r):\n",
        "  return (4/3)*(3.14)*(0.5*r)\n"
      ],
      "execution_count": 0,
      "outputs": []
    },
    {
      "cell_type": "code",
      "metadata": {
        "id": "hJ2RRwE1fA6h",
        "colab_type": "code",
        "outputId": "0cc7e035-e49f-40a2-961e-24e453e04f45",
        "colab": {
          "base_uri": "https://localhost:8080/",
          "height": 34
        }
      },
      "source": [
        "volum_sphere(12)"
      ],
      "execution_count": 4,
      "outputs": [
        {
          "output_type": "execute_result",
          "data": {
            "text/plain": [
              "25.119999999999997"
            ]
          },
          "metadata": {
            "tags": []
          },
          "execution_count": 4
        }
      ]
    },
    {
      "cell_type": "code",
      "metadata": {
        "id": "xyAKt_eOavk7",
        "colab_type": "code",
        "colab": {}
      },
      "source": [
        ""
      ],
      "execution_count": 0,
      "outputs": []
    },
    {
      "cell_type": "markdown",
      "metadata": {
        "id": "IPu5AL2YaFGk",
        "colab_type": "text"
      },
      "source": [
        "*italicized text*\n",
        "Write a Python program to find the volume of a sphere with diameter 12 cm.\n",
        "Formula: V=4/3 * π * r**3"
      ]
    },
    {
      "cell_type": "code",
      "metadata": {
        "id": "vx2wADtkfDU9",
        "colab_type": "code",
        "colab": {}
      },
      "source": [
        "def adjusted_volume_sphere(R):\n",
        "  return (4/3)*(3.14)*(0.5*R)**3"
      ],
      "execution_count": 0,
      "outputs": []
    },
    {
      "cell_type": "code",
      "metadata": {
        "id": "7e9vI54ngh7l",
        "colab_type": "code",
        "outputId": "85e6cd8a-4799-4192-f5ce-8b1a9008168d",
        "colab": {
          "base_uri": "https://localhost:8080/",
          "height": 34
        }
      },
      "source": [
        "adjusted_volume_sphere(12)"
      ],
      "execution_count": 6,
      "outputs": [
        {
          "output_type": "execute_result",
          "data": {
            "text/plain": [
              "904.3199999999999"
            ]
          },
          "metadata": {
            "tags": []
          },
          "execution_count": 6
        }
      ]
    },
    {
      "cell_type": "code",
      "metadata": {
        "id": "LHkHBaNNaxZg",
        "colab_type": "code",
        "colab": {}
      },
      "source": [
        ""
      ],
      "execution_count": 0,
      "outputs": []
    },
    {
      "cell_type": "markdown",
      "metadata": {
        "id": "eosvIRzeiCTC",
        "colab_type": "text"
      },
      "source": [
        "Write a program which accepts a sequence of comma-separated numbers from console and\n",
        "generate a list."
      ]
    },
    {
      "cell_type": "code",
      "metadata": {
        "id": "GrIcajodgju6",
        "colab_type": "code",
        "colab": {}
      },
      "source": [
        "def comma_separated():\n",
        "  values=input()\n",
        "  return list(values.split(','))"
      ],
      "execution_count": 0,
      "outputs": []
    },
    {
      "cell_type": "code",
      "metadata": {
        "id": "sYWLQFVniBU8",
        "colab_type": "code",
        "outputId": "ae191e05-bc84-4968-fd92-7cf7b03704e5",
        "colab": {
          "base_uri": "https://localhost:8080/",
          "height": 52
        }
      },
      "source": [
        "comma_separated()"
      ],
      "execution_count": 8,
      "outputs": [
        {
          "output_type": "stream",
          "text": [
            "1,2,3,4,5\n"
          ],
          "name": "stdout"
        },
        {
          "output_type": "execute_result",
          "data": {
            "text/plain": [
              "['1', '2', '3', '4', '5']"
            ]
          },
          "metadata": {
            "tags": []
          },
          "execution_count": 8
        }
      ]
    },
    {
      "cell_type": "code",
      "metadata": {
        "id": "aFuQK-sxaTDH",
        "colab_type": "code",
        "colab": {}
      },
      "source": [
        ""
      ],
      "execution_count": 0,
      "outputs": []
    },
    {
      "cell_type": "markdown",
      "metadata": {
        "id": "I5nbA3CynWEW",
        "colab_type": "text"
      },
      "source": [
        "Create the below pattern using nested for loop in Python.\n",
        "\n"
      ]
    },
    {
      "cell_type": "code",
      "metadata": {
        "id": "78GCWTaPsBWV",
        "colab_type": "code",
        "colab": {}
      },
      "source": [
        "def stars(n):\n",
        "  for i in range(n):\n",
        "    for j in range(i):\n",
        "      print(\"*\",end=\"\")\n",
        "    print()\n",
        "  for i in range(n,0,-1):\n",
        "    for j in range(1,i+1):\n",
        "      print(\"*\",end=\"\")\n",
        "    print()"
      ],
      "execution_count": 0,
      "outputs": []
    },
    {
      "cell_type": "code",
      "metadata": {
        "id": "s6m02zNnsjeN",
        "colab_type": "code",
        "outputId": "d1e3692b-da40-487e-eebc-e565021db784",
        "colab": {
          "base_uri": "https://localhost:8080/",
          "height": 194
        }
      },
      "source": [
        "stars(5)"
      ],
      "execution_count": 10,
      "outputs": [
        {
          "output_type": "stream",
          "text": [
            "\n",
            "*\n",
            "**\n",
            "***\n",
            "****\n",
            "*****\n",
            "****\n",
            "***\n",
            "**\n",
            "*\n"
          ],
          "name": "stdout"
        }
      ]
    },
    {
      "cell_type": "code",
      "metadata": {
        "id": "4L62GLaAaXXW",
        "colab_type": "code",
        "colab": {}
      },
      "source": [
        ""
      ],
      "execution_count": 0,
      "outputs": []
    },
    {
      "cell_type": "markdown",
      "metadata": {
        "id": "yKfFlQrrxUms",
        "colab_type": "text"
      },
      "source": [
        "Write a Python program to reverse a word after accepting the input from the user."
      ]
    },
    {
      "cell_type": "code",
      "metadata": {
        "id": "3h-N18S-xVh2",
        "colab_type": "code",
        "colab": {}
      },
      "source": [
        "def reverse_me(n):\n",
        "  word=n\n",
        "  return word[::-1]\n",
        "  "
      ],
      "execution_count": 0,
      "outputs": []
    },
    {
      "cell_type": "code",
      "metadata": {
        "id": "crVIvyXtxdxA",
        "colab_type": "code",
        "outputId": "06cc9f9c-9847-4b81-95bc-aee44649f710",
        "colab": {
          "base_uri": "https://localhost:8080/",
          "height": 34
        }
      },
      "source": [
        "reverse_me('chowa')"
      ],
      "execution_count": 12,
      "outputs": [
        {
          "output_type": "execute_result",
          "data": {
            "text/plain": [
              "'awohc'"
            ]
          },
          "metadata": {
            "tags": []
          },
          "execution_count": 12
        }
      ]
    },
    {
      "cell_type": "code",
      "metadata": {
        "id": "yU_q7P-taaM0",
        "colab_type": "code",
        "colab": {}
      },
      "source": [
        ""
      ],
      "execution_count": 0,
      "outputs": []
    },
    {
      "cell_type": "markdown",
      "metadata": {
        "id": "4ndJAzvQ76qP",
        "colab_type": "text"
      },
      "source": [
        "WE, THE PEOPLE OF INDIA, having solemnly resolved to constitute India into a\n",
        "SOVEREIGN, SOCIALIST, SECULAR, DEMOCRATIC REPUBLIC and to secure to all\n",
        "its citizens"
      ]
    },
    {
      "cell_type": "code",
      "metadata": {
        "id": "0ThW-Ri0yeRs",
        "colab_type": "code",
        "outputId": "1e7d1a41-c367-4390-9b6e-fb37c9313959",
        "colab": {
          "base_uri": "https://localhost:8080/",
          "height": 34
        }
      },
      "source": [
        "m='WE, THE PEOPLE OF INDIA,'\n",
        "len(m)"
      ],
      "execution_count": 13,
      "outputs": [
        {
          "output_type": "execute_result",
          "data": {
            "text/plain": [
              "24"
            ]
          },
          "metadata": {
            "tags": []
          },
          "execution_count": 13
        }
      ]
    },
    {
      "cell_type": "code",
      "metadata": {
        "id": "9urigOz_y_MX",
        "colab_type": "code",
        "colab": {}
      },
      "source": [
        "def inueron():\n",
        "  first='WE, THE PEOPLE OF INDIA,'\n",
        "  second='having solemnly resolved to constitute India into a SOVEREIGN, !'\n",
        "  third='SOCIALIST, SECULAR, DEMOCRATIC REPUBLIC'\n",
        "  fourth='and to secure to all its citizens'\n",
        "  print (first,\"\\n\\t\",second,\"\\n\\t\\t\", third, \"\\n\\t\\t\",fourth,\"\\n\",)"
      ],
      "execution_count": 0,
      "outputs": []
    },
    {
      "cell_type": "code",
      "metadata": {
        "id": "YP3rM-oO1tZj",
        "colab_type": "code",
        "outputId": "22a1a3d1-39c6-4d03-e199-e23a7e4781ca",
        "colab": {
          "base_uri": "https://localhost:8080/",
          "height": 105
        }
      },
      "source": [
        "inueron()"
      ],
      "execution_count": 15,
      "outputs": [
        {
          "output_type": "stream",
          "text": [
            "WE, THE PEOPLE OF INDIA, \n",
            "\t having solemnly resolved to constitute India into a SOVEREIGN, ! \n",
            "\t\t SOCIALIST, SECULAR, DEMOCRATIC REPUBLIC \n",
            "\t\t and to secure to all its citizens \n",
            "\n"
          ],
          "name": "stdout"
        }
      ]
    },
    {
      "cell_type": "code",
      "metadata": {
        "id": "r3I48jiW51pF",
        "colab_type": "code",
        "colab": {}
      },
      "source": [
        ""
      ],
      "execution_count": 0,
      "outputs": []
    }
  ]
}