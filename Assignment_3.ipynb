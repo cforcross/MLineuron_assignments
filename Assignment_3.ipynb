{
  "nbformat": 4,
  "nbformat_minor": 0,
  "metadata": {
    "colab": {
      "name": "Assignment 3",
      "provenance": [],
      "collapsed_sections": [],
      "toc_visible": true,
      "include_colab_link": true
    },
    "kernelspec": {
      "display_name": "Python 3",
      "name": "python3"
    }
  },
  "cells": [
    {
      "cell_type": "markdown",
      "metadata": {
        "id": "view-in-github",
        "colab_type": "text"
      },
      "source": [
        "<a href=\"https://colab.research.google.com/github/cforcross/MLineuron_assignments/blob/master/Assignment_3.ipynb\" target=\"_parent\"><img src=\"https://colab.research.google.com/assets/colab-badge.svg\" alt=\"Open In Colab\"/></a>"
      ]
    },
    {
      "cell_type": "code",
      "metadata": {
        "id": "6gn2DJ7P-r6r",
        "colab_type": "code",
        "colab": {}
      },
      "source": [
        ""
      ],
      "execution_count": 0,
      "outputs": []
    },
    {
      "cell_type": "markdown",
      "metadata": {
        "id": "6WQpXyRweUHD",
        "colab_type": "text"
      },
      "source": [
        "ASSIGNMENT 3"
      ]
    },
    {
      "cell_type": "markdown",
      "metadata": {
        "id": "ew3VWvUrDTAG",
        "colab_type": "text"
      },
      "source": [
        "1.1 Write a Python Program to implement your own myreduce() function which works exactly\n",
        "like Python's built-in function reduce()"
      ]
    },
    {
      "cell_type": "code",
      "metadata": {
        "id": "B1sGajH-DUPK",
        "colab_type": "code",
        "colab": {}
      },
      "source": [
        "def reduce_me(func,list_me):\n",
        "  #gets the first element of list_me\n",
        "  result = list_me[0]\n",
        "  #iterates through list_me begining from the second elment till the end\n",
        "  for item in list_me[1:]:\n",
        "    #final result takes in the iterated item in list_me[:1] and inputs in a function with the result\n",
        "    result = func(result, item)\n",
        "   #returns the result \n",
        "  return result"
      ],
      "execution_count": 0,
      "outputs": []
    },
    {
      "cell_type": "markdown",
      "metadata": {
        "id": "FwryQkDiL2dj",
        "colab_type": "text"
      },
      "source": [
        "**Test of my function**"
      ]
    },
    {
      "cell_type": "code",
      "metadata": {
        "id": "1m2r8pJ8JNJq",
        "colab_type": "code",
        "outputId": "33f48dd3-8c3d-4710-ff1b-1a9596108fe7",
        "colab": {
          "base_uri": "https://localhost:8080/",
          "height": 34
        }
      },
      "source": [
        "chowa =[1,2,3,4,5]\n",
        "print(reduce_me(lambda a,b: a+b,chowa))"
      ],
      "execution_count": 0,
      "outputs": [
        {
          "output_type": "stream",
          "text": [
            "15\n"
          ],
          "name": "stdout"
        }
      ]
    },
    {
      "cell_type": "markdown",
      "metadata": {
        "id": "qi-PYrmuMllX",
        "colab_type": "text"
      },
      "source": [
        "1.2 Write a Python program to implement your own myfilter() function which works exactly\n",
        "like Python's built-in function filter()"
      ]
    },
    {
      "cell_type": "code",
      "metadata": {
        "id": "EDRyJjOgMjQE",
        "colab_type": "code",
        "colab": {}
      },
      "source": [
        "def my_filter(func,filter_me):\n",
        "  result = []\n",
        "  for item in filter_me:\n",
        "    if func(item):\n",
        "      result.append(item)\n",
        "  return result"
      ],
      "execution_count": 0,
      "outputs": []
    },
    {
      "cell_type": "markdown",
      "metadata": {
        "id": "ilSjE8gFPZmP",
        "colab_type": "text"
      },
      "source": [
        "Implement List comprehensions to produce the following lis\n",
        "\n",
        "```\n",
        "`# This is formatted as code`\n",
        "```\n",
        "\n",
        "ts.\n",
        "Write List comprehensions to produce the following Lists\n",
        "['A', 'C', 'A', 'D', 'G', 'I', ’L’, ‘ D’]\n",
        "['x', 'xx', 'xxx', 'xxxx', 'y', 'yy', 'yyy', 'yyyy', 'z', 'zz', 'zzz', 'zzzz']\n",
        "['x', 'y', 'z', 'xx', 'yy', 'zz', 'xxx', 'yyy', 'zzz', 'xxxx', 'yyyy', 'zzzz']\n",
        "[[2], [3], [4], [3], [4], [5], [4], [5], [6]] [[2, 3, 4, 5], [3, 4, 5, 6],\n",
        "[4, 5, 6, 7], [5, 6, 7, 8]]\n",
        "[(1, 1), (2, 1), (3, 1), (1, 2), (2, 2), (3, 2), (1, 3), (2, 3), (3, 3)]"
      ]
    },
    {
      "cell_type": "code",
      "metadata": {
        "id": "111XzvOXPYgY",
        "colab_type": "code",
        "colab": {}
      },
      "source": [
        " Lists = ['A,B,C,D,G,I,L,D']"
      ],
      "execution_count": 0,
      "outputs": []
    },
    {
      "cell_type": "code",
      "metadata": {
        "id": "BmLm6DAqJWDf",
        "colab_type": "code",
        "outputId": "b4dc0430-69d9-49fc-df6d-7c7fe9ffb405",
        "colab": {
          "base_uri": "https://localhost:8080/",
          "height": 34
        }
      },
      "source": [
        "[x for x in Lists]"
      ],
      "execution_count": 0,
      "outputs": [
        {
          "output_type": "execute_result",
          "data": {
            "text/plain": [
              "['A,B,C,D,G,I,L,D']"
            ]
          },
          "metadata": {
            "tags": []
          },
          "execution_count": 24
        }
      ]
    },
    {
      "cell_type": "code",
      "metadata": {
        "id": "mrwow-ufQCbM",
        "colab_type": "code",
        "colab": {}
      },
      "source": [
        "mul_me=range(1,5)\n",
        "letter_me=['X','Y','Z']"
      ],
      "execution_count": 0,
      "outputs": []
    },
    {
      "cell_type": "code",
      "metadata": {
        "id": "8e1wGtXARt0g",
        "colab_type": "code",
        "outputId": "a477a075-e99c-42cf-bdcb-f544c8a1e300",
        "colab": {
          "base_uri": "https://localhost:8080/",
          "height": 34
        }
      },
      "source": [
        "mul_me = range(1,5)\n",
        "letter_me = ['x','y','z']\n",
        "print([i*j for i in letter_me for j in mul_me])"
      ],
      "execution_count": 0,
      "outputs": [
        {
          "output_type": "stream",
          "text": [
            "['x', 'xx', 'xxx', 'xxxx', 'y', 'yy', 'yyy', 'yyyy', 'z', 'zz', 'zzz', 'zzzz']\n"
          ],
          "name": "stdout"
        }
      ]
    },
    {
      "cell_type": "code",
      "metadata": {
        "id": "2qSTl0S-TR6M",
        "colab_type": "code",
        "outputId": "e9014416-6060-4d84-beb6-65c626500407",
        "colab": {
          "base_uri": "https://localhost:8080/",
          "height": 34
        }
      },
      "source": [
        "mul_me = range(1,5)\n",
        "letter_me = ['x','y','z']\n",
        "print([i*j for i in mul_me for j in letter_me])"
      ],
      "execution_count": 0,
      "outputs": [
        {
          "output_type": "stream",
          "text": [
            "['x', 'y', 'z', 'xx', 'yy', 'zz', 'xxx', 'yyy', 'zzz', 'xxxx', 'yyyy', 'zzzz']\n"
          ],
          "name": "stdout"
        }
      ]
    },
    {
      "cell_type": "code",
      "metadata": {
        "id": "Q8wv3X5SXf5P",
        "colab_type": "code",
        "outputId": "873e3853-55b0-4ab8-819e-87e172d6632e",
        "colab": {
          "base_uri": "https://localhost:8080/",
          "height": 34
        }
      },
      "source": [
        "listouter=range(2,5)\n",
        "listinner=range(3)\n",
        "print([[i+j] for i in listinner for j in listouter])"
      ],
      "execution_count": 0,
      "outputs": [
        {
          "output_type": "stream",
          "text": [
            "[[2], [3], [4], [3], [4], [5], [4], [5], [6]]\n"
          ],
          "name": "stdout"
        }
      ]
    },
    {
      "cell_type": "code",
      "metadata": {
        "id": "rcVGcTgIX8bm",
        "colab_type": "code",
        "outputId": "eec96af3-7c69-4fda-aa2f-1e7e120d34ca",
        "colab": {
          "base_uri": "https://localhost:8080/",
          "height": 34
        }
      },
      "source": [
        "listouter=[1,2,3]\n",
        "listinner=[1,2,3]\n",
        "print([(j,i) for i in listouter for j in listinner])"
      ],
      "execution_count": 0,
      "outputs": [
        {
          "output_type": "stream",
          "text": [
            "[(1, 1), (2, 1), (3, 1), (1, 2), (2, 2), (3, 2), (1, 3), (2, 3), (3, 3)]\n"
          ],
          "name": "stdout"
        }
      ]
    },
    {
      "cell_type": "code",
      "metadata": {
        "id": "T4c_NE8hZa7v",
        "colab_type": "code",
        "outputId": "236d25f5-d327-419f-b930-fb887d1808d7",
        "colab": {
          "base_uri": "https://localhost:8080/",
          "height": 34
        }
      },
      "source": [
        "input_list = [2,3,4,5]\n",
        "result = [ [item+num for item in input_list] for num in range(0,4)  ]\n",
        "print(str(result))"
      ],
      "execution_count": 0,
      "outputs": [
        {
          "output_type": "stream",
          "text": [
            "[[2, 3, 4, 5], [3, 4, 5, 6], [4, 5, 6, 7], [5, 6, 7, 8]]\n"
          ],
          "name": "stdout"
        }
      ]
    },
    {
      "cell_type": "code",
      "metadata": {
        "id": "tEe8QZptaKdS",
        "colab_type": "code",
        "outputId": "075d4f1c-5ed4-4611-b0bd-a24eb7e5a370",
        "colab": {
          "base_uri": "https://localhost:8080/",
          "height": 34
        }
      },
      "source": [
        "outer_me=[1,2,3]\n",
        "inner_me=[1,2,3]\n",
        "print([(j,i) for i in outer_me for j in inner_me])"
      ],
      "execution_count": 0,
      "outputs": [
        {
          "output_type": "stream",
          "text": [
            "[(1, 1), (2, 1), (3, 1), (1, 2), (2, 2), (3, 2), (1, 3), (2, 3), (3, 3)]\n"
          ],
          "name": "stdout"
        }
      ]
    },
    {
      "cell_type": "code",
      "metadata": {
        "id": "KQSEvaLydtXP",
        "colab_type": "code",
        "colab": {}
      },
      "source": [
        ""
      ],
      "execution_count": 0,
      "outputs": []
    }
  ]
}